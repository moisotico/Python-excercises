{
 "cells": [
  {
   "cell_type": "code",
   "execution_count": 1,
   "metadata": {},
   "outputs": [
    {
     "data": {
      "text/plain": [
       "'\\nGiven a string of wornds reverse all the words\\n'"
      ]
     },
     "execution_count": 1,
     "metadata": {},
     "output_type": "execute_result"
    }
   ],
   "source": [
    "'''\n",
    "Gien a string of wornds reverse all the words\n",
    "''''''"
   ]
  },
  {
   "cell_type": "code",
   "execution_count": 7,
   "metadata": {},
   "outputs": [
    {
     "name": "stdout",
     "output_type": "stream",
     "text": [
      "['2', 'world', 'Hello']\n"
     ]
    }
   ],
   "source": [
    "def reverse(s):\n",
    "    s = s.split()\n",
    "    s.reverse()\n",
    "    return s\n",
    "\n",
    "print(reverse(\"Hello world 2\"))"
   ]
  },
  {
   "cell_type": "code",
   "execution_count": null,
   "metadata": {},
   "outputs": [],
   "source": [
    "def reverse(s):\n",
    "    lenght = len(s)\n",
    "    i = 0\n",
    "    \n",
    "    while i < lenght:\n",
    "        if s[i] != [\" \"]:\n",
    "            word_start = i\n",
    "            while i <\n",
    "\n",
    "\n",
    "print(reverse(\"Hello world 2\"))"
   ]
  }
 ],
 "metadata": {
  "kernelspec": {
   "display_name": "Python 3",
   "language": "python",
   "name": "python3"
  },
  "language_info": {
   "codemirror_mode": {
    "name": "ipython",
    "version": 3
   },
   "file_extension": ".py",
   "mimetype": "text/x-python",
   "name": "python",
   "nbconvert_exporter": "python",
   "pygments_lexer": "ipython3",
   "version": "3.8.5"
  }
 },
 "nbformat": 4,
 "nbformat_minor": 4
}
