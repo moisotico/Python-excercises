{
 "cells": [
  {
   "cell_type": "code",
   "execution_count": 1,
   "metadata": {},
   "outputs": [
    {
     "data": {
      "text/plain": [
       "'\\nGiven a string of wornds reverse all the words\\n'"
      ]
     },
     "execution_count": 1,
     "metadata": {},
     "output_type": "execute_result"
    }
   ],
   "source": [
    "'''\n",
    "Gien a string of wornds reverse all the words\n",
    "''''''"
   ]
  },
  {
   "cell_type": "code",
   "execution_count": 7,
   "metadata": {},
   "outputs": [
    {
     "name": "stdout",
     "output_type": "stream",
     "text": [
      "['2', 'world', 'Hello']\n"
     ]
    }
   ],
   "source": [
    "def reverse(s):\n",
    "    s = s.split()\n",
    "    s.reverse()\n",
    "    return s\n",
    "\n",
    "print(reverse(\"Hello world 2\"))"
   ]
  },
  {
   "cell_type": "code",
   "execution_count": 6,
   "metadata": {},
   "outputs": [
    {
     "output_type": "stream",
     "name": "stdout",
     "text": [
      "2 dlrow olleH\n"
     ]
    }
   ],
   "source": [
    "def reverse(s):\n",
    "    lenght = len(s)\n",
    "    i = 0\n",
    "    words = []\n",
    "    \n",
    "    while i < lenght:\n",
    "        #identify space between words\n",
    "        if s[i] != [\" \"]:\n",
    "            word_start = i\n",
    "            while i < lenght and s[i] != [\" \"]:\n",
    "                i += 1 \n",
    "            words.append(s[word_start:i])\n",
    "        \n",
    "        i+=1\n",
    "    return \"\".join(reversed(s))\n",
    "\n",
    "print(reverse(\"Hello world 2\"))\n"
   ]
  },
  {
   "cell_type": "code",
   "execution_count": null,
   "metadata": {},
   "outputs": [],
   "source": []
  }
 ],
 "metadata": {
  "kernelspec": {
   "display_name": "Python 3",
   "language": "python",
   "name": "python3"
  },
  "language_info": {
   "codemirror_mode": {
    "name": "ipython",
    "version": 3
   },
   "file_extension": ".py",
   "mimetype": "text/x-python",
   "name": "python",
   "nbconvert_exporter": "python",
   "pygments_lexer": "ipython3",
   "version": "3.8.5-final"
  }
 },
 "nbformat": 4,
 "nbformat_minor": 4
}